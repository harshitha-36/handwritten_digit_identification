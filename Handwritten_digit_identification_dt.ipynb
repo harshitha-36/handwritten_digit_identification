{
 "cells": [
  {
   "cell_type": "code",
   "execution_count": 1,
   "id": "53056d48",
   "metadata": {
    "_cell_guid": "b1076dfc-b9ad-4769-8c92-a6c4dae69d19",
    "_uuid": "8f2839f25d086af736a60e9eeb907d3b93b6e0e5",
    "execution": {
     "iopub.execute_input": "2024-02-09T18:11:28.290109Z",
     "iopub.status.busy": "2024-02-09T18:11:28.289664Z",
     "iopub.status.idle": "2024-02-09T18:11:28.302430Z",
     "shell.execute_reply": "2024-02-09T18:11:28.301231Z"
    },
    "papermill": {
     "duration": 0.026269,
     "end_time": "2024-02-09T18:11:28.306517",
     "exception": false,
     "start_time": "2024-02-09T18:11:28.280248",
     "status": "completed"
    },
    "tags": []
   },
   "outputs": [
    {
     "name": "stdout",
     "output_type": "stream",
     "text": [
      "/kaggle/input/handwritten-digit-identification-with-dt-b2/sample_submission.csv\n",
      "/kaggle/input/handwritten-digit-identification-with-dt-b2/train.csv\n",
      "/kaggle/input/handwritten-digit-identification-with-dt-b2/test.csv\n"
     ]
    }
   ],
   "source": [
    "# This Python 3 environment comes with many helpful analytics libraries installed\n",
    "# It is defined by the kaggle/python Docker image: https://github.com/kaggle/docker-python\n",
    "# For example, here's several helpful packages to load\n",
    "\n",
    "import numpy as np # linear algebra\n",
    "import pandas as pd # data processing, CSV file I/O (e.g. pd.read_csv)\n",
    "\n",
    "# Input data files are available in the read-only \"../input/\" directory\n",
    "# For example, running this (by clicking run or pressing Shift+Enter) will list all files under the input directory\n",
    "\n",
    "import os\n",
    "for dirname, _, filenames in os.walk('/kaggle/input'):\n",
    "    for filename in filenames:\n",
    "        print(os.path.join(dirname, filename))\n",
    "\n",
    "# You can write up to 20GB to the current directory (/kaggle/working/) that gets preserved as output when you create a version using \"Save & Run All\" \n",
    "# You can also write temporary files to /kaggle/temp/, but they won't be saved outside of the current session"
   ]
  },
  {
   "cell_type": "markdown",
   "id": "1ce8a36f",
   "metadata": {
    "papermill": {
     "duration": 0.006581,
     "end_time": "2024-02-09T18:11:28.320470",
     "exception": false,
     "start_time": "2024-02-09T18:11:28.313889",
     "status": "completed"
    },
    "tags": []
   },
   "source": [
    "CHECKING SAMPLE SUBMISSION"
   ]
  },
  {
   "cell_type": "code",
   "execution_count": 2,
   "id": "cf5d4366",
   "metadata": {
    "execution": {
     "iopub.execute_input": "2024-02-09T18:11:28.337064Z",
     "iopub.status.busy": "2024-02-09T18:11:28.336338Z",
     "iopub.status.idle": "2024-02-09T18:11:28.381949Z",
     "shell.execute_reply": "2024-02-09T18:11:28.380835Z"
    },
    "papermill": {
     "duration": 0.056648,
     "end_time": "2024-02-09T18:11:28.384519",
     "exception": false,
     "start_time": "2024-02-09T18:11:28.327871",
     "status": "completed"
    },
    "tags": []
   },
   "outputs": [
    {
     "data": {
      "text/html": [
       "<div>\n",
       "<style scoped>\n",
       "    .dataframe tbody tr th:only-of-type {\n",
       "        vertical-align: middle;\n",
       "    }\n",
       "\n",
       "    .dataframe tbody tr th {\n",
       "        vertical-align: top;\n",
       "    }\n",
       "\n",
       "    .dataframe thead th {\n",
       "        text-align: right;\n",
       "    }\n",
       "</style>\n",
       "<table border=\"1\" class=\"dataframe\">\n",
       "  <thead>\n",
       "    <tr style=\"text-align: right;\">\n",
       "      <th></th>\n",
       "      <th>ID</th>\n",
       "      <th>Category</th>\n",
       "    </tr>\n",
       "  </thead>\n",
       "  <tbody>\n",
       "    <tr>\n",
       "      <th>0</th>\n",
       "      <td>1431</td>\n",
       "      <td>0</td>\n",
       "    </tr>\n",
       "    <tr>\n",
       "      <th>1</th>\n",
       "      <td>1432</td>\n",
       "      <td>0</td>\n",
       "    </tr>\n",
       "    <tr>\n",
       "      <th>2</th>\n",
       "      <td>1433</td>\n",
       "      <td>0</td>\n",
       "    </tr>\n",
       "    <tr>\n",
       "      <th>3</th>\n",
       "      <td>1434</td>\n",
       "      <td>0</td>\n",
       "    </tr>\n",
       "    <tr>\n",
       "      <th>4</th>\n",
       "      <td>1435</td>\n",
       "      <td>0</td>\n",
       "    </tr>\n",
       "  </tbody>\n",
       "</table>\n",
       "</div>"
      ],
      "text/plain": [
       "     ID  Category\n",
       "0  1431         0\n",
       "1  1432         0\n",
       "2  1433         0\n",
       "3  1434         0\n",
       "4  1435         0"
      ]
     },
     "execution_count": 2,
     "metadata": {},
     "output_type": "execute_result"
    }
   ],
   "source": [
    "r=pd.read_csv('/kaggle/input/handwritten-digit-identification-with-dt-b2/sample_submission.csv')\n",
    "r.head()"
   ]
  },
  {
   "cell_type": "markdown",
   "id": "2e014aa5",
   "metadata": {
    "papermill": {
     "duration": 0.006668,
     "end_time": "2024-02-09T18:11:28.400073",
     "exception": false,
     "start_time": "2024-02-09T18:11:28.393405",
     "status": "completed"
    },
    "tags": []
   },
   "source": [
    "taking dataset into x_train and x_test"
   ]
  },
  {
   "cell_type": "code",
   "execution_count": 3,
   "id": "52afd09a",
   "metadata": {
    "execution": {
     "iopub.execute_input": "2024-02-09T18:11:28.416485Z",
     "iopub.status.busy": "2024-02-09T18:11:28.415450Z",
     "iopub.status.idle": "2024-02-09T18:11:28.453348Z",
     "shell.execute_reply": "2024-02-09T18:11:28.452198Z"
    },
    "papermill": {
     "duration": 0.049232,
     "end_time": "2024-02-09T18:11:28.456222",
     "exception": false,
     "start_time": "2024-02-09T18:11:28.406990",
     "status": "completed"
    },
    "tags": []
   },
   "outputs": [],
   "source": [
    "x_train=pd.read_csv('/kaggle/input/handwritten-digit-identification-with-dt-b2/train.csv',header=None)\n",
    "x_test=pd.read_csv('/kaggle/input/handwritten-digit-identification-with-dt-b2/test.csv',header=None)"
   ]
  },
  {
   "cell_type": "code",
   "execution_count": 4,
   "id": "60556172",
   "metadata": {
    "execution": {
     "iopub.execute_input": "2024-02-09T18:11:28.473112Z",
     "iopub.status.busy": "2024-02-09T18:11:28.472278Z",
     "iopub.status.idle": "2024-02-09T18:11:28.498517Z",
     "shell.execute_reply": "2024-02-09T18:11:28.497593Z"
    },
    "papermill": {
     "duration": 0.037518,
     "end_time": "2024-02-09T18:11:28.501007",
     "exception": false,
     "start_time": "2024-02-09T18:11:28.463489",
     "status": "completed"
    },
    "tags": []
   },
   "outputs": [
    {
     "data": {
      "text/html": [
       "<div>\n",
       "<style scoped>\n",
       "    .dataframe tbody tr th:only-of-type {\n",
       "        vertical-align: middle;\n",
       "    }\n",
       "\n",
       "    .dataframe tbody tr th {\n",
       "        vertical-align: top;\n",
       "    }\n",
       "\n",
       "    .dataframe thead th {\n",
       "        text-align: right;\n",
       "    }\n",
       "</style>\n",
       "<table border=\"1\" class=\"dataframe\">\n",
       "  <thead>\n",
       "    <tr style=\"text-align: right;\">\n",
       "      <th></th>\n",
       "      <th>0</th>\n",
       "      <th>1</th>\n",
       "      <th>2</th>\n",
       "      <th>3</th>\n",
       "      <th>4</th>\n",
       "      <th>5</th>\n",
       "      <th>6</th>\n",
       "      <th>7</th>\n",
       "      <th>8</th>\n",
       "      <th>9</th>\n",
       "      <th>...</th>\n",
       "      <th>56</th>\n",
       "      <th>57</th>\n",
       "      <th>58</th>\n",
       "      <th>59</th>\n",
       "      <th>60</th>\n",
       "      <th>61</th>\n",
       "      <th>62</th>\n",
       "      <th>63</th>\n",
       "      <th>64</th>\n",
       "      <th>65</th>\n",
       "    </tr>\n",
       "  </thead>\n",
       "  <tbody>\n",
       "    <tr>\n",
       "      <th>0</th>\n",
       "      <td>1</td>\n",
       "      <td>0</td>\n",
       "      <td>0</td>\n",
       "      <td>3</td>\n",
       "      <td>11</td>\n",
       "      <td>16</td>\n",
       "      <td>15</td>\n",
       "      <td>0</td>\n",
       "      <td>0</td>\n",
       "      <td>0</td>\n",
       "      <td>...</td>\n",
       "      <td>0</td>\n",
       "      <td>0</td>\n",
       "      <td>0</td>\n",
       "      <td>3</td>\n",
       "      <td>15</td>\n",
       "      <td>16</td>\n",
       "      <td>9</td>\n",
       "      <td>0</td>\n",
       "      <td>0</td>\n",
       "      <td>8</td>\n",
       "    </tr>\n",
       "    <tr>\n",
       "      <th>1</th>\n",
       "      <td>2</td>\n",
       "      <td>0</td>\n",
       "      <td>0</td>\n",
       "      <td>0</td>\n",
       "      <td>10</td>\n",
       "      <td>12</td>\n",
       "      <td>3</td>\n",
       "      <td>0</td>\n",
       "      <td>0</td>\n",
       "      <td>0</td>\n",
       "      <td>...</td>\n",
       "      <td>0</td>\n",
       "      <td>0</td>\n",
       "      <td>0</td>\n",
       "      <td>2</td>\n",
       "      <td>10</td>\n",
       "      <td>14</td>\n",
       "      <td>13</td>\n",
       "      <td>4</td>\n",
       "      <td>0</td>\n",
       "      <td>8</td>\n",
       "    </tr>\n",
       "    <tr>\n",
       "      <th>2</th>\n",
       "      <td>3</td>\n",
       "      <td>0</td>\n",
       "      <td>0</td>\n",
       "      <td>3</td>\n",
       "      <td>10</td>\n",
       "      <td>15</td>\n",
       "      <td>8</td>\n",
       "      <td>0</td>\n",
       "      <td>0</td>\n",
       "      <td>0</td>\n",
       "      <td>...</td>\n",
       "      <td>0</td>\n",
       "      <td>0</td>\n",
       "      <td>0</td>\n",
       "      <td>2</td>\n",
       "      <td>10</td>\n",
       "      <td>8</td>\n",
       "      <td>0</td>\n",
       "      <td>0</td>\n",
       "      <td>0</td>\n",
       "      <td>5</td>\n",
       "    </tr>\n",
       "    <tr>\n",
       "      <th>3</th>\n",
       "      <td>4</td>\n",
       "      <td>0</td>\n",
       "      <td>0</td>\n",
       "      <td>5</td>\n",
       "      <td>11</td>\n",
       "      <td>16</td>\n",
       "      <td>16</td>\n",
       "      <td>8</td>\n",
       "      <td>0</td>\n",
       "      <td>0</td>\n",
       "      <td>...</td>\n",
       "      <td>0</td>\n",
       "      <td>0</td>\n",
       "      <td>0</td>\n",
       "      <td>7</td>\n",
       "      <td>16</td>\n",
       "      <td>11</td>\n",
       "      <td>2</td>\n",
       "      <td>0</td>\n",
       "      <td>0</td>\n",
       "      <td>3</td>\n",
       "    </tr>\n",
       "    <tr>\n",
       "      <th>4</th>\n",
       "      <td>5</td>\n",
       "      <td>0</td>\n",
       "      <td>0</td>\n",
       "      <td>4</td>\n",
       "      <td>12</td>\n",
       "      <td>16</td>\n",
       "      <td>16</td>\n",
       "      <td>4</td>\n",
       "      <td>0</td>\n",
       "      <td>0</td>\n",
       "      <td>...</td>\n",
       "      <td>0</td>\n",
       "      <td>0</td>\n",
       "      <td>0</td>\n",
       "      <td>3</td>\n",
       "      <td>12</td>\n",
       "      <td>13</td>\n",
       "      <td>9</td>\n",
       "      <td>0</td>\n",
       "      <td>0</td>\n",
       "      <td>2</td>\n",
       "    </tr>\n",
       "  </tbody>\n",
       "</table>\n",
       "<p>5 rows × 66 columns</p>\n",
       "</div>"
      ],
      "text/plain": [
       "   0   1   2   3   4   5   6   7   8   9   ...  56  57  58  59  60  61  62  \\\n",
       "0   1   0   0   3  11  16  15   0   0   0  ...   0   0   0   3  15  16   9   \n",
       "1   2   0   0   0  10  12   3   0   0   0  ...   0   0   0   2  10  14  13   \n",
       "2   3   0   0   3  10  15   8   0   0   0  ...   0   0   0   2  10   8   0   \n",
       "3   4   0   0   5  11  16  16   8   0   0  ...   0   0   0   7  16  11   2   \n",
       "4   5   0   0   4  12  16  16   4   0   0  ...   0   0   0   3  12  13   9   \n",
       "\n",
       "   63  64  65  \n",
       "0   0   0   8  \n",
       "1   4   0   8  \n",
       "2   0   0   5  \n",
       "3   0   0   3  \n",
       "4   0   0   2  \n",
       "\n",
       "[5 rows x 66 columns]"
      ]
     },
     "execution_count": 4,
     "metadata": {},
     "output_type": "execute_result"
    }
   ],
   "source": [
    "x_train.head()"
   ]
  },
  {
   "cell_type": "code",
   "execution_count": 5,
   "id": "61be10c2",
   "metadata": {
    "execution": {
     "iopub.execute_input": "2024-02-09T18:11:28.518370Z",
     "iopub.status.busy": "2024-02-09T18:11:28.517678Z",
     "iopub.status.idle": "2024-02-09T18:11:28.523289Z",
     "shell.execute_reply": "2024-02-09T18:11:28.522483Z"
    },
    "papermill": {
     "duration": 0.016819,
     "end_time": "2024-02-09T18:11:28.525480",
     "exception": false,
     "start_time": "2024-02-09T18:11:28.508661",
     "status": "completed"
    },
    "tags": []
   },
   "outputs": [],
   "source": [
    "import pandas as pd\n",
    "A = x_train.iloc[:, :-1]\n",
    "B = x_train.iloc[:, -1]\n"
   ]
  },
  {
   "cell_type": "markdown",
   "id": "64b6d3bf",
   "metadata": {
    "papermill": {
     "duration": 0.006974,
     "end_time": "2024-02-09T18:11:28.540123",
     "exception": false,
     "start_time": "2024-02-09T18:11:28.533149",
     "status": "completed"
    },
    "tags": []
   },
   "source": [
    "#Method 0"
   ]
  },
  {
   "cell_type": "code",
   "execution_count": 6,
   "id": "b8dea1c9",
   "metadata": {
    "execution": {
     "iopub.execute_input": "2024-02-09T18:11:28.557011Z",
     "iopub.status.busy": "2024-02-09T18:11:28.556565Z",
     "iopub.status.idle": "2024-02-09T18:11:30.986138Z",
     "shell.execute_reply": "2024-02-09T18:11:30.984625Z"
    },
    "papermill": {
     "duration": 2.441315,
     "end_time": "2024-02-09T18:11:30.988838",
     "exception": false,
     "start_time": "2024-02-09T18:11:28.547523",
     "status": "completed"
    },
    "tags": []
   },
   "outputs": [
    {
     "name": "stdout",
     "output_type": "stream",
     "text": [
      "Best Depth: 15\n",
      "Accuracy: 0.8461538461538461\n"
     ]
    }
   ],
   "source": [
    "from sklearn.tree import DecisionTreeClassifier\n",
    "from sklearn.model_selection import train_test_split, cross_val_score\n",
    "import numpy as np\n",
    "\n",
    "# Assuming you have A (features) and B (labels/targets)\n",
    "\n",
    "# Split the data into training and testing sets\n",
    "A_train, A_test, B_train, B_test = train_test_split(A, B, test_size=0.2, random_state=42)\n",
    "\n",
    "# Define a list of depth values to test\n",
    "depths = [15, 45, 75,100,150]\n",
    "\n",
    "# Initialize variables to track best accuracy and corresponding depth\n",
    "best_accuracy = 0.0\n",
    "best_depth = None\n",
    "\n",
    "# Iterate over the depth values\n",
    "for depth in depths:\n",
    "    # Create an instance of the decision tree classifier with the current depth value\n",
    "    clf = DecisionTreeClassifier(max_depth=depth)\n",
    "    \n",
    "    # Perform cross-validation and compute the mean accuracy\n",
    "    scores = cross_val_score(clf, A_train, B_train, cv=5)\n",
    "    mean_accuracy = np.mean(scores)\n",
    "    \n",
    "    # Check if the current depth gives a higher accuracy\n",
    "    if mean_accuracy > best_accuracy:\n",
    "        best_accuracy = mean_accuracy\n",
    "        best_depth = depth\n",
    "\n",
    "# Create the final decision tree classifier with the best depth value\n",
    "clf = DecisionTreeClassifier(max_depth=best_depth)\n",
    "\n",
    "# Fit the classifier to the training data\n",
    "clf.fit(A_train, B_train)\n",
    "\n",
    "# Calculate the accuracy score on the test data\n",
    "score = clf.score(A_test, B_test)\n",
    "\n",
    "# Print the best depth and accuracy score\n",
    "print(\"Best Depth:\", best_depth)\n",
    "print(\"Accuracy:\", score)\n"
   ]
  },
  {
   "cell_type": "markdown",
   "id": "06aea3a5",
   "metadata": {
    "papermill": {
     "duration": 0.007819,
     "end_time": "2024-02-09T18:11:31.004240",
     "exception": false,
     "start_time": "2024-02-09T18:11:30.996421",
     "status": "completed"
    },
    "tags": []
   },
   "source": [
    "continuation to method 0"
   ]
  },
  {
   "cell_type": "code",
   "execution_count": 7,
   "id": "b32177b5",
   "metadata": {
    "execution": {
     "iopub.execute_input": "2024-02-09T18:11:31.021725Z",
     "iopub.status.busy": "2024-02-09T18:11:31.021332Z",
     "iopub.status.idle": "2024-02-09T18:11:31.106875Z",
     "shell.execute_reply": "2024-02-09T18:11:31.105549Z"
    },
    "papermill": {
     "duration": 0.097214,
     "end_time": "2024-02-09T18:11:31.109335",
     "exception": false,
     "start_time": "2024-02-09T18:11:31.012121",
     "status": "completed"
    },
    "tags": []
   },
   "outputs": [
    {
     "name": "stderr",
     "output_type": "stream",
     "text": [
      "/opt/conda/lib/python3.10/site-packages/sklearn/tree/_classes.py:965: RuntimeWarning: divide by zero encountered in log\n",
      "  return np.log(proba)\n"
     ]
    },
    {
     "data": {
      "text/html": [
       "<style>#sk-container-id-1 {color: black;background-color: white;}#sk-container-id-1 pre{padding: 0;}#sk-container-id-1 div.sk-toggleable {background-color: white;}#sk-container-id-1 label.sk-toggleable__label {cursor: pointer;display: block;width: 100%;margin-bottom: 0;padding: 0.3em;box-sizing: border-box;text-align: center;}#sk-container-id-1 label.sk-toggleable__label-arrow:before {content: \"▸\";float: left;margin-right: 0.25em;color: #696969;}#sk-container-id-1 label.sk-toggleable__label-arrow:hover:before {color: black;}#sk-container-id-1 div.sk-estimator:hover label.sk-toggleable__label-arrow:before {color: black;}#sk-container-id-1 div.sk-toggleable__content {max-height: 0;max-width: 0;overflow: hidden;text-align: left;background-color: #f0f8ff;}#sk-container-id-1 div.sk-toggleable__content pre {margin: 0.2em;color: black;border-radius: 0.25em;background-color: #f0f8ff;}#sk-container-id-1 input.sk-toggleable__control:checked~div.sk-toggleable__content {max-height: 200px;max-width: 100%;overflow: auto;}#sk-container-id-1 input.sk-toggleable__control:checked~label.sk-toggleable__label-arrow:before {content: \"▾\";}#sk-container-id-1 div.sk-estimator input.sk-toggleable__control:checked~label.sk-toggleable__label {background-color: #d4ebff;}#sk-container-id-1 div.sk-label input.sk-toggleable__control:checked~label.sk-toggleable__label {background-color: #d4ebff;}#sk-container-id-1 input.sk-hidden--visually {border: 0;clip: rect(1px 1px 1px 1px);clip: rect(1px, 1px, 1px, 1px);height: 1px;margin: -1px;overflow: hidden;padding: 0;position: absolute;width: 1px;}#sk-container-id-1 div.sk-estimator {font-family: monospace;background-color: #f0f8ff;border: 1px dotted black;border-radius: 0.25em;box-sizing: border-box;margin-bottom: 0.5em;}#sk-container-id-1 div.sk-estimator:hover {background-color: #d4ebff;}#sk-container-id-1 div.sk-parallel-item::after {content: \"\";width: 100%;border-bottom: 1px solid gray;flex-grow: 1;}#sk-container-id-1 div.sk-label:hover label.sk-toggleable__label {background-color: #d4ebff;}#sk-container-id-1 div.sk-serial::before {content: \"\";position: absolute;border-left: 1px solid gray;box-sizing: border-box;top: 0;bottom: 0;left: 50%;z-index: 0;}#sk-container-id-1 div.sk-serial {display: flex;flex-direction: column;align-items: center;background-color: white;padding-right: 0.2em;padding-left: 0.2em;position: relative;}#sk-container-id-1 div.sk-item {position: relative;z-index: 1;}#sk-container-id-1 div.sk-parallel {display: flex;align-items: stretch;justify-content: center;background-color: white;position: relative;}#sk-container-id-1 div.sk-item::before, #sk-container-id-1 div.sk-parallel-item::before {content: \"\";position: absolute;border-left: 1px solid gray;box-sizing: border-box;top: 0;bottom: 0;left: 50%;z-index: -1;}#sk-container-id-1 div.sk-parallel-item {display: flex;flex-direction: column;z-index: 1;position: relative;background-color: white;}#sk-container-id-1 div.sk-parallel-item:first-child::after {align-self: flex-end;width: 50%;}#sk-container-id-1 div.sk-parallel-item:last-child::after {align-self: flex-start;width: 50%;}#sk-container-id-1 div.sk-parallel-item:only-child::after {width: 0;}#sk-container-id-1 div.sk-dashed-wrapped {border: 1px dashed gray;margin: 0 0.4em 0.5em 0.4em;box-sizing: border-box;padding-bottom: 0.4em;background-color: white;}#sk-container-id-1 div.sk-label label {font-family: monospace;font-weight: bold;display: inline-block;line-height: 1.2em;}#sk-container-id-1 div.sk-label-container {text-align: center;}#sk-container-id-1 div.sk-container {/* jupyter's `normalize.less` sets `[hidden] { display: none; }` but bootstrap.min.css set `[hidden] { display: none !important; }` so we also need the `!important` here to be able to override the default hidden behavior on the sphinx rendered scikit-learn.org. See: https://github.com/scikit-learn/scikit-learn/issues/21755 */display: inline-block !important;position: relative;}#sk-container-id-1 div.sk-text-repr-fallback {display: none;}</style><div id=\"sk-container-id-1\" class=\"sk-top-container\"><div class=\"sk-text-repr-fallback\"><pre>DecisionTreeClassifier(max_depth=15)</pre><b>In a Jupyter environment, please rerun this cell to show the HTML representation or trust the notebook. <br />On GitHub, the HTML representation is unable to render, please try loading this page with nbviewer.org.</b></div><div class=\"sk-container\" hidden><div class=\"sk-item\"><div class=\"sk-estimator sk-toggleable\"><input class=\"sk-toggleable__control sk-hidden--visually\" id=\"sk-estimator-id-1\" type=\"checkbox\" checked><label for=\"sk-estimator-id-1\" class=\"sk-toggleable__label sk-toggleable__label-arrow\">DecisionTreeClassifier</label><div class=\"sk-toggleable__content\"><pre>DecisionTreeClassifier(max_depth=15)</pre></div></div></div></div></div>"
      ],
      "text/plain": [
       "DecisionTreeClassifier(max_depth=15)"
      ]
     },
     "execution_count": 7,
     "metadata": {},
     "output_type": "execute_result"
    }
   ],
   "source": [
    "# apply(X[, check_input])\n",
    "leaf_indices = clf.apply(A)\n",
    "\n",
    "# cost_complexity_pruning_path(X, y[, ...])\n",
    "path = clf.cost_complexity_pruning_path(A, B)\n",
    "\n",
    "# decision_path(X[, check_input])\n",
    "path = clf.decision_path(A)\n",
    "\n",
    "# fit(X, y[, sample_weight, check_input])\n",
    "clf.fit(A, B)\n",
    "\n",
    "# get_depth()\n",
    "depth = clf.get_depth()\n",
    "\n",
    "# get_n_leaves()\n",
    "n_leaves = clf.get_n_leaves()\n",
    "\n",
    "# get_params([deep])\n",
    "params = clf.get_params(deep=True)\n",
    "\n",
    "# predict(X[, check_input])\n",
    "predictions = clf.predict(A)\n",
    "\n",
    "# predict_log_proba(X)\n",
    "log_probabilities = clf.predict_log_proba(A)\n",
    "\n",
    "# predict_proba(X[, check_input])\n",
    "probabilities = clf.predict_proba(A)\n",
    "\n",
    "# score(X, y[, sample_weight])\n",
    "accuracy = clf.score(A, B)\n",
    "\n",
    "# set_params(**params)\n",
    "clf.set_params(**params)\n"
   ]
  },
  {
   "cell_type": "code",
   "execution_count": 8,
   "id": "6f4aff9c",
   "metadata": {
    "execution": {
     "iopub.execute_input": "2024-02-09T18:11:31.127269Z",
     "iopub.status.busy": "2024-02-09T18:11:31.126845Z",
     "iopub.status.idle": "2024-02-09T18:11:31.134857Z",
     "shell.execute_reply": "2024-02-09T18:11:31.133752Z"
    },
    "papermill": {
     "duration": 0.020218,
     "end_time": "2024-02-09T18:11:31.137162",
     "exception": false,
     "start_time": "2024-02-09T18:11:31.116944",
     "status": "completed"
    },
    "tags": []
   },
   "outputs": [],
   "source": [
    "from sklearn.tree import DecisionTreeClassifier\n",
    "from sklearn.model_selection import train_test_split\n",
    "\n",
    "# Assuming you have A (features) and B (labels/targets)\n",
    "\n",
    "# Split the data into training and testing sets\n",
    "A_train, A_test, B_train, B_test = train_test_split(A, B, test_size=0.2, random_state=3)"
   ]
  },
  {
   "cell_type": "code",
   "execution_count": 9,
   "id": "657f9f3b",
   "metadata": {
    "execution": {
     "iopub.execute_input": "2024-02-09T18:11:31.154890Z",
     "iopub.status.busy": "2024-02-09T18:11:31.154032Z",
     "iopub.status.idle": "2024-02-09T18:11:31.454693Z",
     "shell.execute_reply": "2024-02-09T18:11:31.453834Z"
    },
    "papermill": {
     "duration": 0.312535,
     "end_time": "2024-02-09T18:11:31.457365",
     "exception": false,
     "start_time": "2024-02-09T18:11:31.144830",
     "status": "completed"
    },
    "tags": []
   },
   "outputs": [
    {
     "name": "stdout",
     "output_type": "stream",
     "text": [
      "Best Accuracy: 0.9020979020979021\n",
      "Best Max Depth: 20\n",
      "Best Criterion: entropy\n"
     ]
    }
   ],
   "source": [
    "from sklearn.tree import DecisionTreeClassifier\n",
    "from sklearn.model_selection import train_test_split\n",
    "from sklearn.metrics import accuracy_score\n",
    "\n",
    "max_depths = [10, 50, 100,150,20,75]\n",
    "criterions = ['gini', 'entropy']\n",
    "\n",
    "best_accuracy = 0\n",
    "best_max_depth = None\n",
    "best_criterion = None\n",
    "\n",
    "# Train and evaluate the models\n",
    "for max_depth in max_depths:\n",
    "    for criterion in criterions:\n",
    "        model = DecisionTreeClassifier(max_depth=max_depth, criterion=criterion)\n",
    "        model.fit(A_train, B_train)\n",
    "        y_pred = model.predict(A_test)\n",
    "        accuracy = accuracy_score(B_test, y_pred)\n",
    "\n",
    "        if accuracy > best_accuracy:\n",
    "            best_accuracy = accuracy\n",
    "            best_max_depth = max_depth\n",
    "            best_criterion = criterion\n",
    "\n",
    "print(\"Best Accuracy:\", best_accuracy)\n",
    "print(\"Best Max Depth:\", best_max_depth)\n",
    "print(\"Best Criterion:\", best_criterion)\n"
   ]
  },
  {
   "cell_type": "markdown",
   "id": "aa6a1b74",
   "metadata": {
    "papermill": {
     "duration": 0.007463,
     "end_time": "2024-02-09T18:11:31.473000",
     "exception": false,
     "start_time": "2024-02-09T18:11:31.465537",
     "status": "completed"
    },
    "tags": []
   },
   "source": [
    "DONT RUN"
   ]
  },
  {
   "cell_type": "code",
   "execution_count": 10,
   "id": "3c7c3e2f",
   "metadata": {
    "execution": {
     "iopub.execute_input": "2024-02-09T18:11:31.490858Z",
     "iopub.status.busy": "2024-02-09T18:11:31.490181Z",
     "iopub.status.idle": "2024-02-09T18:11:31.520701Z",
     "shell.execute_reply": "2024-02-09T18:11:31.519442Z"
    },
    "papermill": {
     "duration": 0.042329,
     "end_time": "2024-02-09T18:11:31.523139",
     "exception": false,
     "start_time": "2024-02-09T18:11:31.480810",
     "status": "completed"
    },
    "tags": []
   },
   "outputs": [
    {
     "name": "stdout",
     "output_type": "stream",
     "text": [
      "Score: 0.8741258741258742\n"
     ]
    }
   ],
   "source": [
    "clf = DecisionTreeClassifier(max_depth=100)\n",
    "# Fit the classifier to the training data\n",
    "clf.fit(A_train, B_train)\n",
    "\n",
    "# Calculate the accuracy score on the test data\n",
    "score = clf.score(A_test, B_test)\n",
    "\n",
    "# Print the score\n",
    "print(\"Score:\", score)\n"
   ]
  },
  {
   "cell_type": "markdown",
   "id": "914d1399",
   "metadata": {
    "papermill": {
     "duration": 0.007562,
     "end_time": "2024-02-09T18:11:31.538591",
     "exception": false,
     "start_time": "2024-02-09T18:11:31.531029",
     "status": "completed"
    },
    "tags": []
   },
   "source": [
    "VISUALIZING THE DATA"
   ]
  },
  {
   "cell_type": "code",
   "execution_count": 11,
   "id": "28272bfa",
   "metadata": {
    "execution": {
     "iopub.execute_input": "2024-02-09T18:11:31.556663Z",
     "iopub.status.busy": "2024-02-09T18:11:31.555966Z",
     "iopub.status.idle": "2024-02-09T18:11:31.586501Z",
     "shell.execute_reply": "2024-02-09T18:11:31.584831Z"
    },
    "papermill": {
     "duration": 0.042708,
     "end_time": "2024-02-09T18:11:31.589228",
     "exception": false,
     "start_time": "2024-02-09T18:11:31.546520",
     "status": "completed"
    },
    "tags": []
   },
   "outputs": [
    {
     "name": "stdout",
     "output_type": "stream",
     "text": [
      "Score: 0.8706293706293706\n"
     ]
    }
   ],
   "source": [
    "# Create an instance of the decision tree classifier with increased depth\n",
    "clf = DecisionTreeClassifier(max_depth=10)\n",
    "# Fit the classifier to the training data\n",
    "clf.fit(A_train, B_train)\n",
    "\n",
    "# Calculate the accuracy score on the test data\n",
    "score = clf.score(A_test, B_test)\n",
    "\n",
    "# Print the score\n",
    "print(\"Score:\", score)\n"
   ]
  },
  {
   "cell_type": "code",
   "execution_count": 12,
   "id": "8e0a553e",
   "metadata": {
    "execution": {
     "iopub.execute_input": "2024-02-09T18:11:31.607143Z",
     "iopub.status.busy": "2024-02-09T18:11:31.606672Z",
     "iopub.status.idle": "2024-02-09T18:11:31.636945Z",
     "shell.execute_reply": "2024-02-09T18:11:31.635815Z"
    },
    "papermill": {
     "duration": 0.041926,
     "end_time": "2024-02-09T18:11:31.639120",
     "exception": false,
     "start_time": "2024-02-09T18:11:31.597194",
     "status": "completed"
    },
    "tags": []
   },
   "outputs": [
    {
     "name": "stdout",
     "output_type": "stream",
     "text": [
      "Score: 0.8636363636363636\n"
     ]
    }
   ],
   "source": [
    "clf = DecisionTreeClassifier(max_depth=30)\n",
    "# Fit the classifier to the training data\n",
    "clf.fit(A_train, B_train)\n",
    "\n",
    "# Calculate the accuracy score on the test data\n",
    "score = clf.score(A_test, B_test)\n",
    "\n",
    "# Print the score\n",
    "print(\"Score:\", score)\n"
   ]
  },
  {
   "cell_type": "code",
   "execution_count": 13,
   "id": "558a16b2",
   "metadata": {
    "execution": {
     "iopub.execute_input": "2024-02-09T18:11:31.657803Z",
     "iopub.status.busy": "2024-02-09T18:11:31.656675Z",
     "iopub.status.idle": "2024-02-09T18:11:31.688913Z",
     "shell.execute_reply": "2024-02-09T18:11:31.687379Z"
    },
    "papermill": {
     "duration": 0.044359,
     "end_time": "2024-02-09T18:11:31.691399",
     "exception": false,
     "start_time": "2024-02-09T18:11:31.647040",
     "status": "completed"
    },
    "tags": []
   },
   "outputs": [
    {
     "name": "stdout",
     "output_type": "stream",
     "text": [
      "Score: 0.8706293706293706\n"
     ]
    }
   ],
   "source": [
    "clf = DecisionTreeClassifier(max_depth=100)\n",
    "# Fit the classifier to the training data\n",
    "clf.fit(A_train, B_train)\n",
    "\n",
    "# Calculate the accuracy score on the test data\n",
    "score = clf.score(A_test, B_test)\n",
    "\n",
    "# Print the score\n",
    "print(\"Score:\", score)"
   ]
  },
  {
   "cell_type": "code",
   "execution_count": 14,
   "id": "7a02e6a2",
   "metadata": {
    "execution": {
     "iopub.execute_input": "2024-02-09T18:11:31.708732Z",
     "iopub.status.busy": "2024-02-09T18:11:31.708342Z",
     "iopub.status.idle": "2024-02-09T18:11:31.738672Z",
     "shell.execute_reply": "2024-02-09T18:11:31.737501Z"
    },
    "papermill": {
     "duration": 0.042087,
     "end_time": "2024-02-09T18:11:31.741232",
     "exception": false,
     "start_time": "2024-02-09T18:11:31.699145",
     "status": "completed"
    },
    "tags": []
   },
   "outputs": [
    {
     "name": "stdout",
     "output_type": "stream",
     "text": [
      "Score: 0.8776223776223776\n"
     ]
    }
   ],
   "source": [
    "clf = DecisionTreeClassifier(max_depth=1000)\n",
    "# Fit the classifier to the training data\n",
    "clf.fit(A_train, B_train)\n",
    "\n",
    "# Calculate the accuracy score on the test data\n",
    "score = clf.score(A_test, B_test)\n",
    "\n",
    "# Print the score\n",
    "print(\"Score:\", score)"
   ]
  },
  {
   "cell_type": "markdown",
   "id": "85322c5b",
   "metadata": {
    "papermill": {
     "duration": 0.007923,
     "end_time": "2024-02-09T18:11:31.757622",
     "exception": false,
     "start_time": "2024-02-09T18:11:31.749699",
     "status": "completed"
    },
    "tags": []
   },
   "source": [
    "METHOD 2"
   ]
  },
  {
   "cell_type": "code",
   "execution_count": 15,
   "id": "69c6560b",
   "metadata": {
    "execution": {
     "iopub.execute_input": "2024-02-09T18:11:31.775587Z",
     "iopub.status.busy": "2024-02-09T18:11:31.775188Z",
     "iopub.status.idle": "2024-02-09T18:11:31.909919Z",
     "shell.execute_reply": "2024-02-09T18:11:31.908628Z"
    },
    "papermill": {
     "duration": 0.146934,
     "end_time": "2024-02-09T18:11:31.912643",
     "exception": false,
     "start_time": "2024-02-09T18:11:31.765709",
     "status": "completed"
    },
    "tags": []
   },
   "outputs": [],
   "source": [
    "from sklearn.tree import DecisionTreeClassifier\n",
    "from sklearn.datasets import load_digits\n",
    "from sklearn.model_selection import train_test_split\n",
    "digits = load_digits()\n",
    "a = digits.data\n",
    "b = digits.target\n",
    "\n",
    "# Split the data into training and testing sets\n",
    "X_train, X_test, y_train, y_test = train_test_split(A, B, test_size=0.2, random_state=42)\n"
   ]
  },
  {
   "cell_type": "code",
   "execution_count": 16,
   "id": "32e906b1",
   "metadata": {
    "execution": {
     "iopub.execute_input": "2024-02-09T18:11:31.930918Z",
     "iopub.status.busy": "2024-02-09T18:11:31.930472Z",
     "iopub.status.idle": "2024-02-09T18:11:31.959476Z",
     "shell.execute_reply": "2024-02-09T18:11:31.958390Z"
    },
    "papermill": {
     "duration": 0.040833,
     "end_time": "2024-02-09T18:11:31.961788",
     "exception": false,
     "start_time": "2024-02-09T18:11:31.920955",
     "status": "completed"
    },
    "tags": []
   },
   "outputs": [
    {
     "data": {
      "text/html": [
       "<style>#sk-container-id-2 {color: black;background-color: white;}#sk-container-id-2 pre{padding: 0;}#sk-container-id-2 div.sk-toggleable {background-color: white;}#sk-container-id-2 label.sk-toggleable__label {cursor: pointer;display: block;width: 100%;margin-bottom: 0;padding: 0.3em;box-sizing: border-box;text-align: center;}#sk-container-id-2 label.sk-toggleable__label-arrow:before {content: \"▸\";float: left;margin-right: 0.25em;color: #696969;}#sk-container-id-2 label.sk-toggleable__label-arrow:hover:before {color: black;}#sk-container-id-2 div.sk-estimator:hover label.sk-toggleable__label-arrow:before {color: black;}#sk-container-id-2 div.sk-toggleable__content {max-height: 0;max-width: 0;overflow: hidden;text-align: left;background-color: #f0f8ff;}#sk-container-id-2 div.sk-toggleable__content pre {margin: 0.2em;color: black;border-radius: 0.25em;background-color: #f0f8ff;}#sk-container-id-2 input.sk-toggleable__control:checked~div.sk-toggleable__content {max-height: 200px;max-width: 100%;overflow: auto;}#sk-container-id-2 input.sk-toggleable__control:checked~label.sk-toggleable__label-arrow:before {content: \"▾\";}#sk-container-id-2 div.sk-estimator input.sk-toggleable__control:checked~label.sk-toggleable__label {background-color: #d4ebff;}#sk-container-id-2 div.sk-label input.sk-toggleable__control:checked~label.sk-toggleable__label {background-color: #d4ebff;}#sk-container-id-2 input.sk-hidden--visually {border: 0;clip: rect(1px 1px 1px 1px);clip: rect(1px, 1px, 1px, 1px);height: 1px;margin: -1px;overflow: hidden;padding: 0;position: absolute;width: 1px;}#sk-container-id-2 div.sk-estimator {font-family: monospace;background-color: #f0f8ff;border: 1px dotted black;border-radius: 0.25em;box-sizing: border-box;margin-bottom: 0.5em;}#sk-container-id-2 div.sk-estimator:hover {background-color: #d4ebff;}#sk-container-id-2 div.sk-parallel-item::after {content: \"\";width: 100%;border-bottom: 1px solid gray;flex-grow: 1;}#sk-container-id-2 div.sk-label:hover label.sk-toggleable__label {background-color: #d4ebff;}#sk-container-id-2 div.sk-serial::before {content: \"\";position: absolute;border-left: 1px solid gray;box-sizing: border-box;top: 0;bottom: 0;left: 50%;z-index: 0;}#sk-container-id-2 div.sk-serial {display: flex;flex-direction: column;align-items: center;background-color: white;padding-right: 0.2em;padding-left: 0.2em;position: relative;}#sk-container-id-2 div.sk-item {position: relative;z-index: 1;}#sk-container-id-2 div.sk-parallel {display: flex;align-items: stretch;justify-content: center;background-color: white;position: relative;}#sk-container-id-2 div.sk-item::before, #sk-container-id-2 div.sk-parallel-item::before {content: \"\";position: absolute;border-left: 1px solid gray;box-sizing: border-box;top: 0;bottom: 0;left: 50%;z-index: -1;}#sk-container-id-2 div.sk-parallel-item {display: flex;flex-direction: column;z-index: 1;position: relative;background-color: white;}#sk-container-id-2 div.sk-parallel-item:first-child::after {align-self: flex-end;width: 50%;}#sk-container-id-2 div.sk-parallel-item:last-child::after {align-self: flex-start;width: 50%;}#sk-container-id-2 div.sk-parallel-item:only-child::after {width: 0;}#sk-container-id-2 div.sk-dashed-wrapped {border: 1px dashed gray;margin: 0 0.4em 0.5em 0.4em;box-sizing: border-box;padding-bottom: 0.4em;background-color: white;}#sk-container-id-2 div.sk-label label {font-family: monospace;font-weight: bold;display: inline-block;line-height: 1.2em;}#sk-container-id-2 div.sk-label-container {text-align: center;}#sk-container-id-2 div.sk-container {/* jupyter's `normalize.less` sets `[hidden] { display: none; }` but bootstrap.min.css set `[hidden] { display: none !important; }` so we also need the `!important` here to be able to override the default hidden behavior on the sphinx rendered scikit-learn.org. See: https://github.com/scikit-learn/scikit-learn/issues/21755 */display: inline-block !important;position: relative;}#sk-container-id-2 div.sk-text-repr-fallback {display: none;}</style><div id=\"sk-container-id-2\" class=\"sk-top-container\"><div class=\"sk-text-repr-fallback\"><pre>DecisionTreeClassifier()</pre><b>In a Jupyter environment, please rerun this cell to show the HTML representation or trust the notebook. <br />On GitHub, the HTML representation is unable to render, please try loading this page with nbviewer.org.</b></div><div class=\"sk-container\" hidden><div class=\"sk-item\"><div class=\"sk-estimator sk-toggleable\"><input class=\"sk-toggleable__control sk-hidden--visually\" id=\"sk-estimator-id-2\" type=\"checkbox\" checked><label for=\"sk-estimator-id-2\" class=\"sk-toggleable__label sk-toggleable__label-arrow\">DecisionTreeClassifier</label><div class=\"sk-toggleable__content\"><pre>DecisionTreeClassifier()</pre></div></div></div></div></div>"
      ],
      "text/plain": [
       "DecisionTreeClassifier()"
      ]
     },
     "execution_count": 16,
     "metadata": {},
     "output_type": "execute_result"
    }
   ],
   "source": [
    "clf = DecisionTreeClassifier()\n",
    "clf.fit(X_train, y_train)"
   ]
  },
  {
   "cell_type": "code",
   "execution_count": 17,
   "id": "75e6a20c",
   "metadata": {
    "execution": {
     "iopub.execute_input": "2024-02-09T18:11:31.980565Z",
     "iopub.status.busy": "2024-02-09T18:11:31.980089Z",
     "iopub.status.idle": "2024-02-09T18:11:31.987436Z",
     "shell.execute_reply": "2024-02-09T18:11:31.986425Z"
    },
    "papermill": {
     "duration": 0.020188,
     "end_time": "2024-02-09T18:11:31.989980",
     "exception": false,
     "start_time": "2024-02-09T18:11:31.969792",
     "status": "completed"
    },
    "tags": []
   },
   "outputs": [],
   "source": [
    "\n",
    "predictions = clf.predict(X_test)\n"
   ]
  },
  {
   "cell_type": "code",
   "execution_count": 18,
   "id": "20acc2c8",
   "metadata": {
    "execution": {
     "iopub.execute_input": "2024-02-09T18:11:32.010512Z",
     "iopub.status.busy": "2024-02-09T18:11:32.010085Z",
     "iopub.status.idle": "2024-02-09T18:11:32.020216Z",
     "shell.execute_reply": "2024-02-09T18:11:32.018833Z"
    },
    "papermill": {
     "duration": 0.02517,
     "end_time": "2024-02-09T18:11:32.023163",
     "exception": false,
     "start_time": "2024-02-09T18:11:31.997993",
     "status": "completed"
    },
    "tags": []
   },
   "outputs": [
    {
     "name": "stdout",
     "output_type": "stream",
     "text": [
      "Accuracy score: 84.96503496503497\n"
     ]
    }
   ],
   "source": [
    "score = clf.score(X_test, y_test)\n",
    "print(\"Accuracy score:\", score*100)"
   ]
  },
  {
   "cell_type": "code",
   "execution_count": 19,
   "id": "9c72dfe7",
   "metadata": {
    "execution": {
     "iopub.execute_input": "2024-02-09T18:11:32.041877Z",
     "iopub.status.busy": "2024-02-09T18:11:32.041216Z",
     "iopub.status.idle": "2024-02-09T18:11:32.058826Z",
     "shell.execute_reply": "2024-02-09T18:11:32.057125Z"
    },
    "papermill": {
     "duration": 0.030088,
     "end_time": "2024-02-09T18:11:32.061662",
     "exception": false,
     "start_time": "2024-02-09T18:11:32.031574",
     "status": "completed"
    },
    "tags": []
   },
   "outputs": [
    {
     "data": {
      "text/html": [
       "<div>\n",
       "<style scoped>\n",
       "    .dataframe tbody tr th:only-of-type {\n",
       "        vertical-align: middle;\n",
       "    }\n",
       "\n",
       "    .dataframe tbody tr th {\n",
       "        vertical-align: top;\n",
       "    }\n",
       "\n",
       "    .dataframe thead th {\n",
       "        text-align: right;\n",
       "    }\n",
       "</style>\n",
       "<table border=\"1\" class=\"dataframe\">\n",
       "  <thead>\n",
       "    <tr style=\"text-align: right;\">\n",
       "      <th></th>\n",
       "      <th>0</th>\n",
       "      <th>1</th>\n",
       "      <th>2</th>\n",
       "      <th>3</th>\n",
       "      <th>4</th>\n",
       "      <th>5</th>\n",
       "      <th>6</th>\n",
       "      <th>7</th>\n",
       "      <th>8</th>\n",
       "      <th>9</th>\n",
       "      <th>...</th>\n",
       "      <th>55</th>\n",
       "      <th>56</th>\n",
       "      <th>57</th>\n",
       "      <th>58</th>\n",
       "      <th>59</th>\n",
       "      <th>60</th>\n",
       "      <th>61</th>\n",
       "      <th>62</th>\n",
       "      <th>63</th>\n",
       "      <th>64</th>\n",
       "    </tr>\n",
       "  </thead>\n",
       "  <tbody>\n",
       "    <tr>\n",
       "      <th>123</th>\n",
       "      <td>124</td>\n",
       "      <td>0</td>\n",
       "      <td>0</td>\n",
       "      <td>7</td>\n",
       "      <td>16</td>\n",
       "      <td>16</td>\n",
       "      <td>10</td>\n",
       "      <td>0</td>\n",
       "      <td>0</td>\n",
       "      <td>0</td>\n",
       "      <td>...</td>\n",
       "      <td>4</td>\n",
       "      <td>0</td>\n",
       "      <td>0</td>\n",
       "      <td>0</td>\n",
       "      <td>7</td>\n",
       "      <td>16</td>\n",
       "      <td>16</td>\n",
       "      <td>11</td>\n",
       "      <td>1</td>\n",
       "      <td>0</td>\n",
       "    </tr>\n",
       "    <tr>\n",
       "      <th>1190</th>\n",
       "      <td>1191</td>\n",
       "      <td>0</td>\n",
       "      <td>0</td>\n",
       "      <td>2</td>\n",
       "      <td>12</td>\n",
       "      <td>1</td>\n",
       "      <td>0</td>\n",
       "      <td>0</td>\n",
       "      <td>0</td>\n",
       "      <td>0</td>\n",
       "      <td>...</td>\n",
       "      <td>13</td>\n",
       "      <td>0</td>\n",
       "      <td>0</td>\n",
       "      <td>0</td>\n",
       "      <td>3</td>\n",
       "      <td>14</td>\n",
       "      <td>16</td>\n",
       "      <td>12</td>\n",
       "      <td>3</td>\n",
       "      <td>0</td>\n",
       "    </tr>\n",
       "    <tr>\n",
       "      <th>462</th>\n",
       "      <td>463</td>\n",
       "      <td>0</td>\n",
       "      <td>0</td>\n",
       "      <td>11</td>\n",
       "      <td>12</td>\n",
       "      <td>0</td>\n",
       "      <td>0</td>\n",
       "      <td>0</td>\n",
       "      <td>0</td>\n",
       "      <td>0</td>\n",
       "      <td>...</td>\n",
       "      <td>2</td>\n",
       "      <td>0</td>\n",
       "      <td>0</td>\n",
       "      <td>0</td>\n",
       "      <td>12</td>\n",
       "      <td>14</td>\n",
       "      <td>13</td>\n",
       "      <td>12</td>\n",
       "      <td>5</td>\n",
       "      <td>0</td>\n",
       "    </tr>\n",
       "    <tr>\n",
       "      <th>351</th>\n",
       "      <td>352</td>\n",
       "      <td>0</td>\n",
       "      <td>0</td>\n",
       "      <td>0</td>\n",
       "      <td>4</td>\n",
       "      <td>15</td>\n",
       "      <td>12</td>\n",
       "      <td>0</td>\n",
       "      <td>0</td>\n",
       "      <td>0</td>\n",
       "      <td>...</td>\n",
       "      <td>5</td>\n",
       "      <td>0</td>\n",
       "      <td>0</td>\n",
       "      <td>0</td>\n",
       "      <td>0</td>\n",
       "      <td>3</td>\n",
       "      <td>11</td>\n",
       "      <td>16</td>\n",
       "      <td>9</td>\n",
       "      <td>0</td>\n",
       "    </tr>\n",
       "    <tr>\n",
       "      <th>1009</th>\n",
       "      <td>1010</td>\n",
       "      <td>0</td>\n",
       "      <td>0</td>\n",
       "      <td>0</td>\n",
       "      <td>0</td>\n",
       "      <td>7</td>\n",
       "      <td>13</td>\n",
       "      <td>5</td>\n",
       "      <td>0</td>\n",
       "      <td>0</td>\n",
       "      <td>...</td>\n",
       "      <td>0</td>\n",
       "      <td>0</td>\n",
       "      <td>0</td>\n",
       "      <td>0</td>\n",
       "      <td>0</td>\n",
       "      <td>0</td>\n",
       "      <td>8</td>\n",
       "      <td>12</td>\n",
       "      <td>0</td>\n",
       "      <td>0</td>\n",
       "    </tr>\n",
       "  </tbody>\n",
       "</table>\n",
       "<p>5 rows × 65 columns</p>\n",
       "</div>"
      ],
      "text/plain": [
       "        0   1   2   3   4   5   6   7   8   9   ...  55  56  57  58  59  60  \\\n",
       "123    124   0   0   7  16  16  10   0   0   0  ...   4   0   0   0   7  16   \n",
       "1190  1191   0   0   2  12   1   0   0   0   0  ...  13   0   0   0   3  14   \n",
       "462    463   0   0  11  12   0   0   0   0   0  ...   2   0   0   0  12  14   \n",
       "351    352   0   0   0   4  15  12   0   0   0  ...   5   0   0   0   0   3   \n",
       "1009  1010   0   0   0   0   7  13   5   0   0  ...   0   0   0   0   0   0   \n",
       "\n",
       "      61  62  63  64  \n",
       "123   16  11   1   0  \n",
       "1190  16  12   3   0  \n",
       "462   13  12   5   0  \n",
       "351   11  16   9   0  \n",
       "1009   8  12   0   0  \n",
       "\n",
       "[5 rows x 65 columns]"
      ]
     },
     "execution_count": 19,
     "metadata": {},
     "output_type": "execute_result"
    }
   ],
   "source": [
    "X_test.head()"
   ]
  },
  {
   "cell_type": "code",
   "execution_count": 20,
   "id": "09bdb3c5",
   "metadata": {
    "execution": {
     "iopub.execute_input": "2024-02-09T18:11:32.081578Z",
     "iopub.status.busy": "2024-02-09T18:11:32.080587Z",
     "iopub.status.idle": "2024-02-09T18:11:32.097373Z",
     "shell.execute_reply": "2024-02-09T18:11:32.096480Z"
    },
    "papermill": {
     "duration": 0.029019,
     "end_time": "2024-02-09T18:11:32.099457",
     "exception": false,
     "start_time": "2024-02-09T18:11:32.070438",
     "status": "completed"
    },
    "tags": []
   },
   "outputs": [
    {
     "data": {
      "text/html": [
       "<div>\n",
       "<style scoped>\n",
       "    .dataframe tbody tr th:only-of-type {\n",
       "        vertical-align: middle;\n",
       "    }\n",
       "\n",
       "    .dataframe tbody tr th {\n",
       "        vertical-align: top;\n",
       "    }\n",
       "\n",
       "    .dataframe thead th {\n",
       "        text-align: right;\n",
       "    }\n",
       "</style>\n",
       "<table border=\"1\" class=\"dataframe\">\n",
       "  <thead>\n",
       "    <tr style=\"text-align: right;\">\n",
       "      <th></th>\n",
       "      <th>0</th>\n",
       "      <th>1</th>\n",
       "      <th>2</th>\n",
       "      <th>3</th>\n",
       "      <th>4</th>\n",
       "      <th>5</th>\n",
       "      <th>6</th>\n",
       "      <th>7</th>\n",
       "      <th>8</th>\n",
       "      <th>9</th>\n",
       "      <th>...</th>\n",
       "      <th>55</th>\n",
       "      <th>56</th>\n",
       "      <th>57</th>\n",
       "      <th>58</th>\n",
       "      <th>59</th>\n",
       "      <th>60</th>\n",
       "      <th>61</th>\n",
       "      <th>62</th>\n",
       "      <th>63</th>\n",
       "      <th>64</th>\n",
       "    </tr>\n",
       "  </thead>\n",
       "  <tbody>\n",
       "    <tr>\n",
       "      <th>0</th>\n",
       "      <td>1431</td>\n",
       "      <td>0</td>\n",
       "      <td>0</td>\n",
       "      <td>0</td>\n",
       "      <td>2</td>\n",
       "      <td>14</td>\n",
       "      <td>5</td>\n",
       "      <td>0</td>\n",
       "      <td>0</td>\n",
       "      <td>0</td>\n",
       "      <td>...</td>\n",
       "      <td>0</td>\n",
       "      <td>0</td>\n",
       "      <td>0</td>\n",
       "      <td>0</td>\n",
       "      <td>0</td>\n",
       "      <td>3</td>\n",
       "      <td>15</td>\n",
       "      <td>6</td>\n",
       "      <td>0</td>\n",
       "      <td>0</td>\n",
       "    </tr>\n",
       "    <tr>\n",
       "      <th>1</th>\n",
       "      <td>1432</td>\n",
       "      <td>0</td>\n",
       "      <td>0</td>\n",
       "      <td>0</td>\n",
       "      <td>13</td>\n",
       "      <td>12</td>\n",
       "      <td>0</td>\n",
       "      <td>0</td>\n",
       "      <td>0</td>\n",
       "      <td>0</td>\n",
       "      <td>...</td>\n",
       "      <td>12</td>\n",
       "      <td>0</td>\n",
       "      <td>0</td>\n",
       "      <td>0</td>\n",
       "      <td>1</td>\n",
       "      <td>10</td>\n",
       "      <td>16</td>\n",
       "      <td>14</td>\n",
       "      <td>4</td>\n",
       "      <td>0</td>\n",
       "    </tr>\n",
       "    <tr>\n",
       "      <th>2</th>\n",
       "      <td>1433</td>\n",
       "      <td>0</td>\n",
       "      <td>0</td>\n",
       "      <td>7</td>\n",
       "      <td>16</td>\n",
       "      <td>16</td>\n",
       "      <td>16</td>\n",
       "      <td>6</td>\n",
       "      <td>0</td>\n",
       "      <td>0</td>\n",
       "      <td>...</td>\n",
       "      <td>0</td>\n",
       "      <td>0</td>\n",
       "      <td>0</td>\n",
       "      <td>0</td>\n",
       "      <td>7</td>\n",
       "      <td>15</td>\n",
       "      <td>1</td>\n",
       "      <td>0</td>\n",
       "      <td>0</td>\n",
       "      <td>0</td>\n",
       "    </tr>\n",
       "    <tr>\n",
       "      <th>3</th>\n",
       "      <td>1434</td>\n",
       "      <td>0</td>\n",
       "      <td>2</td>\n",
       "      <td>15</td>\n",
       "      <td>15</td>\n",
       "      <td>6</td>\n",
       "      <td>0</td>\n",
       "      <td>0</td>\n",
       "      <td>0</td>\n",
       "      <td>0</td>\n",
       "      <td>...</td>\n",
       "      <td>1</td>\n",
       "      <td>0</td>\n",
       "      <td>0</td>\n",
       "      <td>3</td>\n",
       "      <td>15</td>\n",
       "      <td>14</td>\n",
       "      <td>11</td>\n",
       "      <td>2</td>\n",
       "      <td>0</td>\n",
       "      <td>0</td>\n",
       "    </tr>\n",
       "    <tr>\n",
       "      <th>4</th>\n",
       "      <td>1435</td>\n",
       "      <td>0</td>\n",
       "      <td>0</td>\n",
       "      <td>0</td>\n",
       "      <td>10</td>\n",
       "      <td>9</td>\n",
       "      <td>0</td>\n",
       "      <td>0</td>\n",
       "      <td>0</td>\n",
       "      <td>0</td>\n",
       "      <td>...</td>\n",
       "      <td>0</td>\n",
       "      <td>0</td>\n",
       "      <td>0</td>\n",
       "      <td>0</td>\n",
       "      <td>0</td>\n",
       "      <td>13</td>\n",
       "      <td>10</td>\n",
       "      <td>0</td>\n",
       "      <td>0</td>\n",
       "      <td>0</td>\n",
       "    </tr>\n",
       "  </tbody>\n",
       "</table>\n",
       "<p>5 rows × 65 columns</p>\n",
       "</div>"
      ],
      "text/plain": [
       "     0   1   2   3   4   5   6   7   8   9   ...  55  56  57  58  59  60  61  \\\n",
       "0  1431   0   0   0   2  14   5   0   0   0  ...   0   0   0   0   0   3  15   \n",
       "1  1432   0   0   0  13  12   0   0   0   0  ...  12   0   0   0   1  10  16   \n",
       "2  1433   0   0   7  16  16  16   6   0   0  ...   0   0   0   0   7  15   1   \n",
       "3  1434   0   2  15  15   6   0   0   0   0  ...   1   0   0   3  15  14  11   \n",
       "4  1435   0   0   0  10   9   0   0   0   0  ...   0   0   0   0   0  13  10   \n",
       "\n",
       "   62  63  64  \n",
       "0   6   0   0  \n",
       "1  14   4   0  \n",
       "2   0   0   0  \n",
       "3   2   0   0  \n",
       "4   0   0   0  \n",
       "\n",
       "[5 rows x 65 columns]"
      ]
     },
     "execution_count": 20,
     "metadata": {},
     "output_type": "execute_result"
    }
   ],
   "source": [
    "x_test.head()"
   ]
  },
  {
   "cell_type": "code",
   "execution_count": 21,
   "id": "b4181c78",
   "metadata": {
    "execution": {
     "iopub.execute_input": "2024-02-09T18:11:32.119069Z",
     "iopub.status.busy": "2024-02-09T18:11:32.118159Z",
     "iopub.status.idle": "2024-02-09T18:11:32.127285Z",
     "shell.execute_reply": "2024-02-09T18:11:32.125997Z"
    },
    "papermill": {
     "duration": 0.021673,
     "end_time": "2024-02-09T18:11:32.129769",
     "exception": false,
     "start_time": "2024-02-09T18:11:32.108096",
     "status": "completed"
    },
    "tags": []
   },
   "outputs": [],
   "source": [
    "y_pred1= model.predict(x_test)"
   ]
  },
  {
   "cell_type": "code",
   "execution_count": 22,
   "id": "695adaf0",
   "metadata": {
    "execution": {
     "iopub.execute_input": "2024-02-09T18:11:32.149332Z",
     "iopub.status.busy": "2024-02-09T18:11:32.148916Z",
     "iopub.status.idle": "2024-02-09T18:11:32.165610Z",
     "shell.execute_reply": "2024-02-09T18:11:32.164017Z"
    },
    "papermill": {
     "duration": 0.029277,
     "end_time": "2024-02-09T18:11:32.167876",
     "exception": false,
     "start_time": "2024-02-09T18:11:32.138599",
     "status": "completed"
    },
    "tags": []
   },
   "outputs": [
    {
     "name": "stdout",
     "output_type": "stream",
     "text": [
      "DONE\n"
     ]
    }
   ],
   "source": [
    "predictions = pd.DataFrame({'ID': x_test.iloc[:, 0], 'Category': y_pred1})\n",
    "predictions.to_csv('14jun-9.csv', index=False)\n",
    "print(\"DONE\")"
   ]
  }
 ],
 "metadata": {
  "kaggle": {
   "accelerator": "none",
   "dataSources": [
    {
     "databundleVersionId": 5994385,
     "sourceId": 55910,
     "sourceType": "competition"
    }
   ],
   "dockerImageVersionId": 30497,
   "isGpuEnabled": false,
   "isInternetEnabled": true,
   "language": "python",
   "sourceType": "notebook"
  },
  "kernelspec": {
   "display_name": "Python 3",
   "language": "python",
   "name": "python3"
  },
  "language_info": {
   "codemirror_mode": {
    "name": "ipython",
    "version": 3
   },
   "file_extension": ".py",
   "mimetype": "text/x-python",
   "name": "python",
   "nbconvert_exporter": "python",
   "pygments_lexer": "ipython3",
   "version": "3.10.10"
  },
  "papermill": {
   "default_parameters": {},
   "duration": 17.522957,
   "end_time": "2024-02-09T18:11:33.300191",
   "environment_variables": {},
   "exception": null,
   "input_path": "__notebook__.ipynb",
   "output_path": "__notebook__.ipynb",
   "parameters": {},
   "start_time": "2024-02-09T18:11:15.777234",
   "version": "2.4.0"
  }
 },
 "nbformat": 4,
 "nbformat_minor": 5
}
